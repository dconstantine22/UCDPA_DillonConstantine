{
 "cells": [
  {
   "cell_type": "markdown",
   "id": "2b2dbc00",
   "metadata": {},
   "source": [
    "# Petrol Prices Worldwide Analysis\n",
    "Dillon Constantine - dillon.l.constantine@aib.ie\n",
    "\n",
    "This piece of code is part of an Exploritory analysis into the Petrol Prices from June 2022. The Author of the dataset is Zeeshan Usmani. The Data was collected from google sources such as the sites - IMF, World Bank and United Nations.\n",
    "\n",
    "The Dataset is an available from Kaggle (https://www.kaggle.com/) and is open source.\n"
   ]
  },
  {
   "cell_type": "markdown",
   "id": "6283e64e",
   "metadata": {},
   "source": [
    "### Import the Libaries"
   ]
  },
  {
   "cell_type": "code",
   "execution_count": 2,
   "id": "20a8bb92",
   "metadata": {},
   "outputs": [],
   "source": [
    "import numpy as np\n",
    "import pandas as pd\n",
    "import matplotlib.pyplot as plt\n",
    "import seaborn as sns\n",
    "\n",
    "# Importing plotly as a interactive visualisation tool\n",
    "import plotly.express as px\n",
    "import plotly.graph_objects as go"
   ]
  },
  {
   "cell_type": "markdown",
   "id": "737196f7",
   "metadata": {},
   "source": [
    "### Importing the Dataset"
   ]
  },
  {
   "cell_type": "code",
   "execution_count": null,
   "id": "69732f7b",
   "metadata": {},
   "outputs": [],
   "source": [
    "#Importing the DataSet\n",
    "\n",
    "df_ppww = pd.read_csv(\"Petrol Dataset June 23 2022 -- Version 2.csv\", index_col = 'S#', encoding='latin-1') \n",
    "df_ppww.head()"
   ]
  },
  {
   "cell_type": "markdown",
   "id": "c85203fd",
   "metadata": {},
   "source": [
    "### First Look and Data Cleaning\n",
    "This is where the data is first explored and any inconsitencies with the structure of the data, data types and null values are found and cleaned up."
   ]
  },
  {
   "cell_type": "code",
   "execution_count": null,
   "id": "da0e66bf",
   "metadata": {},
   "outputs": [],
   "source": [
    "# Used to get the data structures and types\n",
    "df_ppww.shape\n",
    "df_ppww.info()"
   ]
  },
  {
   "cell_type": "code",
   "execution_count": null,
   "id": "bddad48a",
   "metadata": {},
   "outputs": [],
   "source": [
    "# Need to change objects to floats (GDP Per Capita (USD) & Gallons GDP Per Capita Can Buy)\n",
    "df_ppww['Daily Oil Consumption (Barrels)'] = df_ppww['Daily Oil Consumption (Barrels)'].apply(lambda x:x.replace(',', '')).astype(float)\n",
    "df_ppww['GDP Per Capita ( USD )'] = df_ppww['GDP Per Capita ( USD )'].apply(lambda x:x.replace(',', '')).astype(float)\n",
    "df_ppww['Gallons GDP Per Capita Can Buy'] = df_ppww['Gallons GDP Per Capita Can Buy'].apply(lambda x:x.replace(',', '')).astype(float)\n",
    "df_ppww['World Share'] = df_ppww['World Share'].apply(lambda x:x.replace('%', '')).astype(float)\n",
    "\n",
    "# Drop price in PKR as no use for the column and tidy up data.\n",
    "df_ppww.drop('Price Per Liter (PKR)', axis = 1, inplace = True)\n",
    "\n",
    "df_ppww.info()\n",
    "\n"
   ]
  },
  {
   "cell_type": "code",
   "execution_count": null,
   "id": "0fe6cf6e",
   "metadata": {},
   "outputs": [],
   "source": [
    "# Create new Columns total cost column per day in each country. \n",
    "#(Need to find the quantity in liters of a Oil Barrel Book Reference - 159L or 42 Gallons\n",
    "\n",
    "# Create a Gallon Cost per Day in each Country.\n",
    "daily_gallons_cost = (df_ppww['Daily Oil Consumption (Barrels)']/42) * df_ppww['Price Per Gallon (USD)']\n",
    "df_ppww['Daily Cost per Gallon'] = round(daily_gallons_cost,2)\n",
    "\n",
    "\n",
    "# Create a Liter Cost per Day in each country .\n",
    "daily_liters_cost = (df_ppww['Daily Oil Consumption (Barrels)']/159) * df_ppww['Price Per Liter (USD)']\n",
    "df_ppww['Daily Cost per Liter'] = round(daily_liters_cost, 2)\n",
    "\n",
    "\n",
    "df_ppww.head()"
   ]
  },
  {
   "cell_type": "code",
   "execution_count": null,
   "id": "355b6483",
   "metadata": {},
   "outputs": [],
   "source": [
    "# Check for null values in each field.\n",
    "df_ppww.isnull().sum()\n",
    "\n",
    "# As there is no missing values in the dataset no need to drop missing values."
   ]
  },
  {
   "cell_type": "code",
   "execution_count": null,
   "id": "b81a9c7f",
   "metadata": {},
   "outputs": [],
   "source": [
    "# Stats Summary - Can see the basic stats of all the columns.\n",
    "round(df_ppww.describe(), 2)"
   ]
  },
  {
   "cell_type": "code",
   "execution_count": null,
   "id": "bccb54c2",
   "metadata": {},
   "outputs": [],
   "source": []
  },
  {
   "cell_type": "markdown",
   "id": "de382056",
   "metadata": {},
   "source": [
    "# Top 10 Visualisations\n",
    "This section of the code dipicts the top 10 values based on specified fields."
   ]
  },
  {
   "cell_type": "code",
   "execution_count": null,
   "id": "74f82374",
   "metadata": {},
   "outputs": [],
   "source": [
    "# Looking at the top 10 countries by the price per gallon (USD)\n",
    "price_per_gallon_top_10 = df_ppww.sort_values('Price Per Gallon (USD)', ascending = False)[0:10]\n",
    "price_per_gallon_top_10"
   ]
  },
  {
   "cell_type": "code",
   "execution_count": null,
   "id": "38f28dbb",
   "metadata": {},
   "outputs": [],
   "source": [
    "# The Price Per Gallon in the Top 10  \n",
    "plt.figure(figsize = (20,10))\n",
    "sns.barplot(data = price_per_gallon_top_10, y = 'Price Per Gallon (USD)', x = 'Country')\n"
   ]
  },
  {
   "cell_type": "code",
   "execution_count": null,
   "id": "e8b0d9e7",
   "metadata": {},
   "outputs": [],
   "source": []
  }
 ],
 "metadata": {
  "kernelspec": {
   "display_name": "Python 3 (ipykernel)",
   "language": "python",
   "name": "python3"
  },
  "language_info": {
   "codemirror_mode": {
    "name": "ipython",
    "version": 3
   },
   "file_extension": ".py",
   "mimetype": "text/x-python",
   "name": "python",
   "nbconvert_exporter": "python",
   "pygments_lexer": "ipython3",
   "version": "3.9.7"
  }
 },
 "nbformat": 4,
 "nbformat_minor": 5
}
